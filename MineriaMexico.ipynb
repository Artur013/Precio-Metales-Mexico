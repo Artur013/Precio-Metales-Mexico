{
 "cells": [
  {
   "cell_type": "markdown",
   "metadata": {},
   "source": [
    "Datos exploratorios de kaggle\n",
    "Obteniendo datos de \"Mexico Minerometallurgical Stats 2001-2023\" desde la pagina \"https://www.kaggle.com/datasets/valamcortes/mexico-minerometallurgical-stats-2001-2023\" con la siguiente descripción: \"Las Estadísticas de la Industria Minerometalúrgica (EIMM) tienen como objetivo proporcionar indicadores confiables y oportunos sobre el volumen y valor de la producción minerometalúrgica. La caracterización de los datos se extiende a nivel nacional, por estado y a los municipios con actividad minera en México desde 2001 hasta 2023.\"\n"
   ]
  },
  {
   "cell_type": "code",
   "execution_count": 3,
   "metadata": {},
   "outputs": [],
   "source": [
    "import pandas as pd\n",
    "import numpy as np\n",
    "import matplotlib.pyplot as plt\n"
   ]
  },
  {
   "cell_type": "code",
   "execution_count": 4,
   "metadata": {},
   "outputs": [],
   "source": [
    "#Lectura de datos\n",
    "entrenamiento = pd.read_csv(r'C:\\Users\\Familia\\Documents\\Minerometallurgical_production_by_main_products.csv')\n",
    "prueba = pd.read_csv(r'C:\\Users\\Familia\\Documents\\Minerometallurgical_production_by_main_products.csv')"
   ]
  },
  {
   "cell_type": "code",
   "execution_count": 5,
   "metadata": {},
   "outputs": [
    {
     "data": {
      "text/html": [
       "<div>\n",
       "<style scoped>\n",
       "    .dataframe tbody tr th:only-of-type {\n",
       "        vertical-align: middle;\n",
       "    }\n",
       "\n",
       "    .dataframe tbody tr th {\n",
       "        vertical-align: top;\n",
       "    }\n",
       "\n",
       "    .dataframe thead th {\n",
       "        text-align: right;\n",
       "    }\n",
       "</style>\n",
       "<table border=\"1\" class=\"dataframe\">\n",
       "  <thead>\n",
       "    <tr style=\"text-align: right;\">\n",
       "      <th></th>\n",
       "      <th>COVERAGE</th>\n",
       "      <th>YEAR</th>\n",
       "      <th>MONTH</th>\n",
       "      <th>DATE</th>\n",
       "      <th>PRODUCT_GROUP</th>\n",
       "      <th>PRODUCT</th>\n",
       "      <th>MEASUREMENT_UNIT</th>\n",
       "      <th>VOLUME</th>\n",
       "      <th>VALUE</th>\n",
       "      <th>INDEX</th>\n",
       "      <th>STATUS</th>\n",
       "    </tr>\n",
       "  </thead>\n",
       "  <tbody>\n",
       "    <tr>\n",
       "      <th>0</th>\n",
       "      <td>National</td>\n",
       "      <td>2001</td>\n",
       "      <td>January</td>\n",
       "      <td>01/01/2001</td>\n",
       "      <td>Precious Metals</td>\n",
       "      <td>Gold</td>\n",
       "      <td>Kilograms</td>\n",
       "      <td>2255.1</td>\n",
       "      <td>187081.313</td>\n",
       "      <td>53.728</td>\n",
       "      <td>Final Figures.</td>\n",
       "    </tr>\n",
       "    <tr>\n",
       "      <th>1</th>\n",
       "      <td>National</td>\n",
       "      <td>2001</td>\n",
       "      <td>January</td>\n",
       "      <td>01/01/2001</td>\n",
       "      <td>Precious Metals</td>\n",
       "      <td>Silver</td>\n",
       "      <td>Kilograms</td>\n",
       "      <td>215465.0</td>\n",
       "      <td>312983.364</td>\n",
       "      <td>96.910</td>\n",
       "      <td>Final Figures.</td>\n",
       "    </tr>\n",
       "    <tr>\n",
       "      <th>2</th>\n",
       "      <td>National</td>\n",
       "      <td>2001</td>\n",
       "      <td>January</td>\n",
       "      <td>01/01/2001</td>\n",
       "      <td>Non-Ferrous Industrial Metals</td>\n",
       "      <td>Lead</td>\n",
       "      <td>Tons</td>\n",
       "      <td>11591.0</td>\n",
       "      <td>53528.285</td>\n",
       "      <td>138.091</td>\n",
       "      <td>Final Figures.</td>\n",
       "    </tr>\n",
       "    <tr>\n",
       "      <th>3</th>\n",
       "      <td>National</td>\n",
       "      <td>2001</td>\n",
       "      <td>January</td>\n",
       "      <td>01/01/2001</td>\n",
       "      <td>Non-Ferrous Industrial Metals</td>\n",
       "      <td>Copper</td>\n",
       "      <td>Tons</td>\n",
       "      <td>31801.0</td>\n",
       "      <td>595985.648</td>\n",
       "      <td>142.064</td>\n",
       "      <td>Final Figures.</td>\n",
       "    </tr>\n",
       "    <tr>\n",
       "      <th>4</th>\n",
       "      <td>National</td>\n",
       "      <td>2001</td>\n",
       "      <td>January</td>\n",
       "      <td>01/01/2001</td>\n",
       "      <td>Non-Ferrous Industrial Metals</td>\n",
       "      <td>Zinc</td>\n",
       "      <td>Tons</td>\n",
       "      <td>33286.0</td>\n",
       "      <td>363521.974</td>\n",
       "      <td>100.535</td>\n",
       "      <td>Final Figures.</td>\n",
       "    </tr>\n",
       "  </tbody>\n",
       "</table>\n",
       "</div>"
      ],
      "text/plain": [
       "   COVERAGE  YEAR    MONTH        DATE                  PRODUCT_GROUP PRODUCT  \\\n",
       "0  National  2001  January  01/01/2001                Precious Metals    Gold   \n",
       "1  National  2001  January  01/01/2001                Precious Metals  Silver   \n",
       "2  National  2001  January  01/01/2001  Non-Ferrous Industrial Metals    Lead   \n",
       "3  National  2001  January  01/01/2001  Non-Ferrous Industrial Metals  Copper   \n",
       "4  National  2001  January  01/01/2001  Non-Ferrous Industrial Metals    Zinc   \n",
       "\n",
       "  MEASUREMENT_UNIT    VOLUME       VALUE    INDEX          STATUS  \n",
       "0        Kilograms    2255.1  187081.313   53.728  Final Figures.  \n",
       "1        Kilograms  215465.0  312983.364   96.910  Final Figures.  \n",
       "2             Tons   11591.0   53528.285  138.091  Final Figures.  \n",
       "3             Tons   31801.0  595985.648  142.064  Final Figures.  \n",
       "4             Tons   33286.0  363521.974  100.535  Final Figures.  "
      ]
     },
     "execution_count": 5,
     "metadata": {},
     "output_type": "execute_result"
    }
   ],
   "source": [
    "entrenamiento.head()"
   ]
  },
  {
   "cell_type": "code",
   "execution_count": 6,
   "metadata": {},
   "outputs": [
    {
     "data": {
      "text/plain": [
       "Index(['COVERAGE', 'YEAR', 'MONTH', 'DATE', 'PRODUCT_GROUP', 'PRODUCT',\n",
       "       'MEASUREMENT_UNIT', 'VOLUME', 'VALUE', 'INDEX', 'STATUS'],\n",
       "      dtype='object')"
      ]
     },
     "execution_count": 6,
     "metadata": {},
     "output_type": "execute_result"
    }
   ],
   "source": [
    "entrenamiento.columns"
   ]
  },
  {
   "cell_type": "code",
   "execution_count": 7,
   "metadata": {},
   "outputs": [
    {
     "data": {
      "text/plain": [
       "(8724, 11)"
      ]
     },
     "execution_count": 7,
     "metadata": {},
     "output_type": "execute_result"
    }
   ],
   "source": [
    "entrenamiento.shape"
   ]
  },
  {
   "cell_type": "code",
   "execution_count": 8,
   "metadata": {},
   "outputs": [
    {
     "name": "stdout",
     "output_type": "stream",
     "text": [
      "<class 'pandas.core.frame.DataFrame'>\n",
      "RangeIndex: 8724 entries, 0 to 8723\n",
      "Data columns (total 11 columns):\n",
      " #   Column            Non-Null Count  Dtype  \n",
      "---  ------            --------------  -----  \n",
      " 0   COVERAGE          8724 non-null   object \n",
      " 1   YEAR              8724 non-null   int64  \n",
      " 2   MONTH             8724 non-null   object \n",
      " 3   DATE              8724 non-null   object \n",
      " 4   PRODUCT_GROUP     8724 non-null   object \n",
      " 5   PRODUCT           8724 non-null   object \n",
      " 6   MEASUREMENT_UNIT  8724 non-null   object \n",
      " 7   VOLUME            8724 non-null   float64\n",
      " 8   VALUE             8724 non-null   float64\n",
      " 9   INDEX             8724 non-null   float64\n",
      " 10  STATUS            8724 non-null   object \n",
      "dtypes: float64(3), int64(1), object(7)\n",
      "memory usage: 749.8+ KB\n"
     ]
    }
   ],
   "source": [
    "entrenamiento.info()"
   ]
  },
  {
   "cell_type": "code",
   "execution_count": 9,
   "metadata": {},
   "outputs": [
    {
     "data": {
      "text/html": [
       "<div>\n",
       "<style scoped>\n",
       "    .dataframe tbody tr th:only-of-type {\n",
       "        vertical-align: middle;\n",
       "    }\n",
       "\n",
       "    .dataframe tbody tr th {\n",
       "        vertical-align: top;\n",
       "    }\n",
       "\n",
       "    .dataframe thead th {\n",
       "        text-align: right;\n",
       "    }\n",
       "</style>\n",
       "<table border=\"1\" class=\"dataframe\">\n",
       "  <thead>\n",
       "    <tr style=\"text-align: right;\">\n",
       "      <th></th>\n",
       "      <th>YEAR</th>\n",
       "      <th>VOLUME</th>\n",
       "      <th>VALUE</th>\n",
       "      <th>INDEX</th>\n",
       "    </tr>\n",
       "  </thead>\n",
       "  <tbody>\n",
       "    <tr>\n",
       "      <th>count</th>\n",
       "      <td>8724.000000</td>\n",
       "      <td>8.724000e+03</td>\n",
       "      <td>8.724000e+03</td>\n",
       "      <td>8724.00000</td>\n",
       "    </tr>\n",
       "    <tr>\n",
       "      <th>mean</th>\n",
       "      <td>2012.086657</td>\n",
       "      <td>1.248760e+05</td>\n",
       "      <td>4.456475e+05</td>\n",
       "      <td>107.10344</td>\n",
       "    </tr>\n",
       "    <tr>\n",
       "      <th>std</th>\n",
       "      <td>6.622166</td>\n",
       "      <td>2.266150e+05</td>\n",
       "      <td>1.202332e+06</td>\n",
       "      <td>85.41538</td>\n",
       "    </tr>\n",
       "    <tr>\n",
       "      <th>min</th>\n",
       "      <td>2001.000000</td>\n",
       "      <td>0.000000e+00</td>\n",
       "      <td>0.000000e+00</td>\n",
       "      <td>0.00000</td>\n",
       "    </tr>\n",
       "    <tr>\n",
       "      <th>25%</th>\n",
       "      <td>2006.000000</td>\n",
       "      <td>1.389650e+03</td>\n",
       "      <td>6.622102e+03</td>\n",
       "      <td>66.84950</td>\n",
       "    </tr>\n",
       "    <tr>\n",
       "      <th>50%</th>\n",
       "      <td>2012.000000</td>\n",
       "      <td>1.750300e+04</td>\n",
       "      <td>4.734077e+04</td>\n",
       "      <td>96.00000</td>\n",
       "    </tr>\n",
       "    <tr>\n",
       "      <th>75%</th>\n",
       "      <td>2018.000000</td>\n",
       "      <td>1.028888e+05</td>\n",
       "      <td>2.578176e+05</td>\n",
       "      <td>124.41725</td>\n",
       "    </tr>\n",
       "    <tr>\n",
       "      <th>max</th>\n",
       "      <td>2023.000000</td>\n",
       "      <td>1.530199e+06</td>\n",
       "      <td>1.135206e+07</td>\n",
       "      <td>775.14800</td>\n",
       "    </tr>\n",
       "  </tbody>\n",
       "</table>\n",
       "</div>"
      ],
      "text/plain": [
       "              YEAR        VOLUME         VALUE       INDEX\n",
       "count  8724.000000  8.724000e+03  8.724000e+03  8724.00000\n",
       "mean   2012.086657  1.248760e+05  4.456475e+05   107.10344\n",
       "std       6.622166  2.266150e+05  1.202332e+06    85.41538\n",
       "min    2001.000000  0.000000e+00  0.000000e+00     0.00000\n",
       "25%    2006.000000  1.389650e+03  6.622102e+03    66.84950\n",
       "50%    2012.000000  1.750300e+04  4.734077e+04    96.00000\n",
       "75%    2018.000000  1.028888e+05  2.578176e+05   124.41725\n",
       "max    2023.000000  1.530199e+06  1.135206e+07   775.14800"
      ]
     },
     "execution_count": 9,
     "metadata": {},
     "output_type": "execute_result"
    }
   ],
   "source": [
    "entrenamiento.describe()"
   ]
  },
  {
   "cell_type": "code",
   "execution_count": 10,
   "metadata": {},
   "outputs": [
    {
     "data": {
      "text/plain": [
       "PRODUCT_GROUP\n",
       "Non-Ferrous Industrial Metals    2652\n",
       "Non-Metallic Minerals            4416\n",
       "Precious Metals                   552\n",
       "Steel Metals and Minerals        1104\n",
       "Name: PRODUCT, dtype: int64"
      ]
     },
     "execution_count": 10,
     "metadata": {},
     "output_type": "execute_result"
    }
   ],
   "source": [
    "entrenamiento.groupby(['PRODUCT_GROUP']).count()['PRODUCT']"
   ]
  },
  {
   "cell_type": "code",
   "execution_count": null,
   "metadata": {},
   "outputs": [],
   "source": [
    "entrenamiento.groupby(['PRODUCT_GROUP','PRODUCT']).count()['VALUE']"
   ]
  },
  {
   "cell_type": "code",
   "execution_count": null,
   "metadata": {},
   "outputs": [],
   "source": [
    "grupo_metales=entrenamiento.groupby(['PRODUCT_GROUP','PRODUCT']).max()['VALUE']\n",
    "top_10_metales = grupo_metales.nlargest(10)\n",
    "print(top_10_metales)\n",
    "(top_10_metales.unstack(level=0).plot(kind='bar'))\n",
    "plt.show()\n"
   ]
  },
  {
   "cell_type": "code",
   "execution_count": 32,
   "metadata": {},
   "outputs": [
    {
     "name": "stdout",
     "output_type": "stream",
     "text": [
      "PRODUCT_GROUP                  PRODUCT        \n",
      "Non-Ferrous Industrial Metals  Copper             1.135206e+07\n",
      "Precious Metals                Gold               9.672531e+06\n",
      "                               Silver             7.484334e+06\n",
      "Non-Ferrous Industrial Metals  Zinc               2.500584e+06\n",
      "Steel Metals and Minerals      Iron Pellets       1.639822e+06\n",
      "Non-Ferrous Industrial Metals  Molybdenum         1.065235e+06\n",
      "Steel Metals and Minerals      Coke               9.845091e+05\n",
      "Non-Ferrous Industrial Metals  Lead               8.836940e+05\n",
      "Steel Metals and Minerals      Non-Coking Coal    7.203828e+05\n",
      "Non-Metallic Minerals          Fluorite           5.298128e+05\n",
      "Name: VALUE, dtype: float64\n"
     ]
    },
    {
     "ename": "AttributeError",
     "evalue": "module 'matplotlib' has no attribute 'title'",
     "output_type": "error",
     "traceback": [
      "\u001b[1;31m---------------------------------------------------------------------------\u001b[0m",
      "\u001b[1;31mAttributeError\u001b[0m                            Traceback (most recent call last)",
      "Cell \u001b[1;32mIn[32], line 12\u001b[0m\n\u001b[0;32m     10\u001b[0m \u001b[38;5;66;03m# Gráfica del top 10\u001b[39;00m\n\u001b[0;32m     11\u001b[0m top_10_metales\u001b[38;5;241m.\u001b[39mplot(kind\u001b[38;5;241m=\u001b[39m\u001b[38;5;124m'\u001b[39m\u001b[38;5;124mbar\u001b[39m\u001b[38;5;124m'\u001b[39m, color\u001b[38;5;241m=\u001b[39m\u001b[38;5;124m'\u001b[39m\u001b[38;5;124mskyblue\u001b[39m\u001b[38;5;124m'\u001b[39m, figsize\u001b[38;5;241m=\u001b[39m(\u001b[38;5;241m10\u001b[39m, \u001b[38;5;241m6\u001b[39m))\n\u001b[1;32m---> 12\u001b[0m \u001b[43mplt\u001b[49m\u001b[38;5;241;43m.\u001b[39;49m\u001b[43mtitle\u001b[49m(\u001b[38;5;124m'\u001b[39m\u001b[38;5;124mTop 10 productos más valiosos (ordenados de mayor a menor)\u001b[39m\u001b[38;5;124m'\u001b[39m)\n\u001b[0;32m     13\u001b[0m plt\u001b[38;5;241m.\u001b[39mylabel(\u001b[38;5;124m'\u001b[39m\u001b[38;5;124mValor\u001b[39m\u001b[38;5;124m'\u001b[39m)\n\u001b[0;32m     14\u001b[0m plt\u001b[38;5;241m.\u001b[39mxlabel(\u001b[38;5;124m'\u001b[39m\u001b[38;5;124mProducto\u001b[39m\u001b[38;5;124m'\u001b[39m)\n",
      "File \u001b[1;32mc:\\Users\\Familia\\AppData\\Local\\Programs\\Python\\Python38\\lib\\site-packages\\matplotlib\\_api\\__init__.py:226\u001b[0m, in \u001b[0;36mcaching_module_getattr.<locals>.__getattr__\u001b[1;34m(name)\u001b[0m\n\u001b[0;32m    224\u001b[0m \u001b[39mif\u001b[39;00m name \u001b[39min\u001b[39;00m props:\n\u001b[0;32m    225\u001b[0m     \u001b[39mreturn\u001b[39;00m props[name]\u001b[39m.\u001b[39m\u001b[39m__get__\u001b[39m(instance)\n\u001b[1;32m--> 226\u001b[0m \u001b[39mraise\u001b[39;00m \u001b[39mAttributeError\u001b[39;00m(\n\u001b[0;32m    227\u001b[0m     \u001b[39mf\u001b[39m\u001b[39m\"\u001b[39m\u001b[39mmodule \u001b[39m\u001b[39m{\u001b[39;00m\u001b[39mcls\u001b[39m\u001b[39m.\u001b[39m\u001b[39m__module__\u001b[39m\u001b[39m!r}\u001b[39;00m\u001b[39m has no attribute \u001b[39m\u001b[39m{\u001b[39;00mname\u001b[39m!r}\u001b[39;00m\u001b[39m\"\u001b[39m)\n",
      "\u001b[1;31mAttributeError\u001b[0m: module 'matplotlib' has no attribute 'title'"
     ]
    },
    {
     "data": {
      "image/png": "[encoded data removed]",
      "text/plain": [
       "<Figure size 1000x600 with 1 Axes>"
      ]
     },
     "metadata": {},
     "output_type": "display_data"
    }
   ],
   "source": [
    "# Agrupa los datos y calcula el máximo valor\n",
    "grupo_metales = entrenamiento.groupby(['PRODUCT_GROUP', 'PRODUCT']).max()['VALUE']\n",
    "\n",
    "# Obtén el top 10 de valores más altos y ordénalos de mayor a menor\n",
    "top_10_metales = grupo_metales.nlargest(10).sort_values(ascending=False)\n",
    "\n",
    "# Muestra el resultado\n",
    "print(top_10_metales)\n",
    "\n",
    "# Gráfica del top 10\n",
    "top_10_metales.plot(kind='bar', color='skyblue', figsize=(10, 6))\n",
    "plt.title('Top 10 productos más valiosos (ordenados de mayor a menor)')\n",
    "plt.ylabel('Valor')\n",
    "plt.xlabel('Producto')\n",
    "plt.xticks(rotation=45)\n",
    "plt.tight_layout()\n",
    "plt.show()"
   ]
  },
  {
   "cell_type": "markdown",
   "metadata": {},
   "source": [
    "Procesamiento de datos\n",
    "con los datos:\n",
    "DATE,\n",
    "PRODUCT,\n",
    "VALUE,\n",
    "VOLUME\n",
    "Para visualizar el cambio del precio con respecto a la fecha y lograr predecir precios futuros, primero creamos los campos VOLUME_KG para convertir todo a kg y despues el campo VALUE_PER_KG "
   ]
  },
  {
   "cell_type": "code",
   "execution_count": 27,
   "metadata": {},
   "outputs": [
    {
     "name": "stdout",
     "output_type": "stream",
     "text": [
      "   COVERAGE  YEAR    MONTH        DATE                  PRODUCT_GROUP PRODUCT  \\\n",
      "0  National  2001  January  01/01/2001                Precious Metals    Gold   \n",
      "1  National  2001  January  01/01/2001                Precious Metals  Silver   \n",
      "2  National  2001  January  01/01/2001  Non-Ferrous Industrial Metals    Lead   \n",
      "3  National  2001  January  01/01/2001  Non-Ferrous Industrial Metals  Copper   \n",
      "4  National  2001  January  01/01/2001  Non-Ferrous Industrial Metals    Zinc   \n",
      "\n",
      "  MEASUREMENT_UNIT    VOLUME       VALUE    INDEX          STATUS   VOLUME_KG  \\\n",
      "0        Kilograms    2255.1  187081.313   53.728  Final Figures.      2255.1   \n",
      "1        Kilograms  215465.0  312983.364   96.910  Final Figures.    215465.0   \n",
      "2             Tons   11591.0   53528.285  138.091  Final Figures.  11591000.0   \n",
      "3             Tons   31801.0  595985.648  142.064  Final Figures.  31801000.0   \n",
      "4             Tons   33286.0  363521.974  100.535  Final Figures.  33286000.0   \n",
      "\n",
      "   VALUE_PER_KG  \n",
      "0     82.959209  \n",
      "1      1.452595  \n",
      "2      0.004618  \n",
      "3      0.018741  \n",
      "4      0.010921  \n"
     ]
    }
   ],
   "source": [
    "# Cargar los datos desde tu archivo (puedes cambiar el nombre del archivo por el tuyo)\n",
    "# Asegúrate de que el archivo esté en formato CSV o Excel\n",
    "\n",
    "# Convertir todas las unidades de VOLUME a kilogramos\n",
    "entrenamiento[\"VOLUME_KG\"] = entrenamiento.apply(\n",
    "    lambda row: row[\"VOLUME\"] * 1000 if row[\"MEASUREMENT_UNIT\"] == \"Tons\" else row[\"VOLUME\"], axis=1\n",
    ")\n",
    "\n",
    "# Crear una columna con el valor real por kilogramo\n",
    "entrenamiento[\"VALUE_PER_KG\"] = entrenamiento[\"VALUE\"] / entrenamiento[\"VOLUME_KG\"]\n",
    "\n",
    "\n",
    "# Verifica las primeras filas del DataFrame para confirmar\n",
    "print(entrenamiento.head())"
   ]
  },
  {
   "cell_type": "code",
   "execution_count": 29,
   "metadata": {},
   "outputs": [
    {
     "data": {
      "text/html": [
       "<div>\n",
       "<style scoped>\n",
       "    .dataframe tbody tr th:only-of-type {\n",
       "        vertical-align: middle;\n",
       "    }\n",
       "\n",
       "    .dataframe tbody tr th {\n",
       "        vertical-align: top;\n",
       "    }\n",
       "\n",
       "    .dataframe thead th {\n",
       "        text-align: right;\n",
       "    }\n",
       "</style>\n",
       "<table border=\"1\" class=\"dataframe\">\n",
       "  <thead>\n",
       "    <tr style=\"text-align: right;\">\n",
       "      <th></th>\n",
       "      <th>DATE</th>\n",
       "      <th>PRODUCT</th>\n",
       "      <th>VALUE_PER_KG</th>\n",
       "    </tr>\n",
       "  </thead>\n",
       "  <tbody>\n",
       "    <tr>\n",
       "      <th>0</th>\n",
       "      <td>01/01/2001</td>\n",
       "      <td>Gold</td>\n",
       "      <td>82.959209</td>\n",
       "    </tr>\n",
       "    <tr>\n",
       "      <th>1</th>\n",
       "      <td>01/01/2001</td>\n",
       "      <td>Silver</td>\n",
       "      <td>1.452595</td>\n",
       "    </tr>\n",
       "    <tr>\n",
       "      <th>2</th>\n",
       "      <td>01/01/2001</td>\n",
       "      <td>Lead</td>\n",
       "      <td>0.004618</td>\n",
       "    </tr>\n",
       "  </tbody>\n",
       "</table>\n",
       "</div>"
      ],
      "text/plain": [
       "         DATE PRODUCT  VALUE_PER_KG\n",
       "0  01/01/2001    Gold     82.959209\n",
       "1  01/01/2001  Silver      1.452595\n",
       "2  01/01/2001    Lead      0.004618"
      ]
     },
     "execution_count": 29,
     "metadata": {},
     "output_type": "execute_result"
    }
   ],
   "source": [
    "entrenamiento[['DATE','PRODUCT','VALUE_PER_KG']].head(3)"
   ]
  },
  {
   "cell_type": "code",
   "execution_count": 30,
   "metadata": {},
   "outputs": [
    {
     "name": "stdout",
     "output_type": "stream",
     "text": [
      "<class 'pandas.core.frame.DataFrame'>\n",
      "RangeIndex: 8724 entries, 0 to 8723\n",
      "Data columns (total 3 columns):\n",
      " #   Column        Non-Null Count  Dtype  \n",
      "---  ------        --------------  -----  \n",
      " 0   DATE          8724 non-null   object \n",
      " 1   PRODUCT       8724 non-null   object \n",
      " 2   VALUE_PER_KG  8057 non-null   float64\n",
      "dtypes: float64(1), object(2)\n",
      "memory usage: 204.6+ KB\n"
     ]
    }
   ],
   "source": [
    "entrenamiento[['DATE','PRODUCT','VALUE_PER_KG']].info()"
   ]
  },
  {
   "cell_type": "code",
   "execution_count": 37,
   "metadata": {},
   "outputs": [
    {
     "name": "stdout",
     "output_type": "stream",
     "text": [
      "<class 'pandas.core.frame.DataFrame'>\n",
      "RangeIndex: 8724 entries, 0 to 8723\n",
      "Data columns (total 3 columns):\n",
      " #   Column        Non-Null Count  Dtype         \n",
      "---  ------        --------------  -----         \n",
      " 0   DATE          8724 non-null   datetime64[ns]\n",
      " 1   PRODUCT       8724 non-null   object        \n",
      " 2   VALUE_PER_KG  8724 non-null   float64       \n",
      "dtypes: datetime64[ns](1), float64(1), object(1)\n",
      "memory usage: 204.6+ KB\n"
     ]
    }
   ],
   "source": [
    "entrenamiento['VALUE_PER_KG'] = entrenamiento['VALUE_PER_KG'].fillna(entrenamiento['VALUE_PER_KG'].mean())\n",
    "entrenamiento['DATE'] = pd.to_datetime(entrenamiento['DATE'], format='%d/%m/%Y')\n",
    "\n",
    "\n",
    "entrenamiento[['DATE','PRODUCT','VALUE_PER_KG']].info()"
   ]
  },
  {
   "cell_type": "code",
   "execution_count": 42,
   "metadata": {},
   "outputs": [
    {
     "name": "stdout",
     "output_type": "stream",
     "text": [
      "                   PRODUCT_GROUP  PRODUCT_GROUP_BINARY\n",
      "0                Precious Metals                     1\n",
      "1                Precious Metals                     1\n",
      "2  Non-Ferrous Industrial Metals                     2\n",
      "3  Non-Ferrous Industrial Metals                     2\n",
      "4  Non-Ferrous Industrial Metals                     2\n"
     ]
    }
   ],
   "source": [
    "# Diccionario para asignar valores binarios\n",
    "group_mapping = {\n",
    "    'Precious Metals': 1,\n",
    "    'Non-Ferrous Industrial Metals': 2,\n",
    "    'Steel Metals and Minerals': 3,\n",
    "    'Non-Metallic Minerals': 4\n",
    "}\n",
    "\n",
    "# Asignar los valores binarios en una nueva columna\n",
    "entrenamiento['PRODUCT_GROUP_BINARY'] = entrenamiento['PRODUCT_GROUP'].map(group_mapping)\n",
    "\n",
    "# Verificar el resultado\n",
    "print(entrenamiento[['PRODUCT_GROUP', 'PRODUCT_GROUP_BINARY']].head())\n"
   ]
  },
  {
   "cell_type": "code",
   "execution_count": 43,
   "metadata": {},
   "outputs": [
    {
     "name": "stdout",
     "output_type": "stream",
     "text": [
      "  PRODUCT  PRODUCT_NUMERIC\n",
      "0    Gold               13\n",
      "1  Silver               27\n",
      "2    Lead               18\n",
      "3  Copper                8\n",
      "4    Zinc               32\n",
      "{'Antimony': 1, 'Arsenic': 2, 'Barite': 3, 'Bismuth': 4, 'Cadmium': 5, 'Celestite': 6, 'Coke': 7, 'Copper': 8, 'Diatomite': 9, 'Dolomite': 10, 'Feldspar': 11, 'Fluorite': 12, 'Gold': 13, 'Graphite': 14, 'Gypsum': 15, 'Iron Pellets': 16, 'Kaolin': 17, 'Lead': 18, 'Magnesium Sulfate': 19, 'Manganese': 20, 'Molybdenum': 21, 'Non-Coking Coal': 22, 'Phosphate Rock': 23, 'Salt': 24, 'Selenium': 25, 'Silica Sand': 26, 'Silver': 27, 'Sodium Sulfate': 28, 'Sulfur': 29, 'Tin': 30, 'Wollastonite': 31, 'Zinc': 32}\n"
     ]
    }
   ],
   "source": [
    "# Crear un mapeo numérico basado en el orden alfabético\n",
    "product_mapping = {product: i+1 for i, product in enumerate(sorted(entrenamiento['PRODUCT'].unique()))}\n",
    "entrenamiento['PRODUCT_NUMERIC'] = entrenamiento['PRODUCT'].map(product_mapping)\n",
    "print(entrenamiento[['PRODUCT', 'PRODUCT_NUMERIC']].head())\n",
    "print(product_mapping)\n"
   ]
  },
  {
   "cell_type": "markdown",
   "metadata": {},
   "source": [
    "Vamos a escoger dos modelos de prueba.\n",
    "\n",
    "regresión logistica y \n",
    "arboles de decisión"
   ]
  },
  {
   "cell_type": "code",
   "execution_count": 53,
   "metadata": {},
   "outputs": [
    {
     "name": "stdout",
     "output_type": "stream",
     "text": [
      "(8051,) (8051, 3)\n"
     ]
    }
   ],
   "source": [
    "# Variable dependiente\n",
    "Y_train = entrenamiento['VALUE']  \n",
    "\n",
    "# Preprocesamiento de variables independientes\n",
    "features = ['PRODUCT_GROUP_BINARY', 'PRODUCT_NUMERIC', 'VOLUME_KG']  \n",
    "X_train = entrenamiento[features]\n",
    "\n",
    "print(Y_train.shape, X_train.shape)\n"
   ]
  },
  {
   "cell_type": "code",
   "execution_count": 47,
   "metadata": {},
   "outputs": [
    {
     "name": "stdout",
     "output_type": "stream",
     "text": [
      "count    8051.000000\n",
      "mean       19.947155\n",
      "std       123.964012\n",
      "min         0.000000\n",
      "25%         0.000626\n",
      "50%         0.002395\n",
      "75%         0.027209\n",
      "max      1407.794149\n",
      "Name: VALUE_PER_KG, dtype: float64\n",
      "(8051, 15)\n"
     ]
    }
   ],
   "source": [
    "import numpy as np\n",
    "\n",
    "# Filtrar valores finitos en VALUE_PER_KG\n",
    "entrenamiento = entrenamiento[np.isfinite(entrenamiento['VALUE_PER_KG'])]\n",
    "\n",
    "# Verificar después de limpiar\n",
    "print(entrenamiento['VALUE_PER_KG'].describe())\n",
    "print(entrenamiento.shape)  # Revisar el tamaño del conjunto de datos limpio\n"
   ]
  },
  {
   "cell_type": "code",
   "execution_count": 52,
   "metadata": {},
   "outputs": [
    {
     "name": "stdout",
     "output_type": "stream",
     "text": [
      "count    8724.000000\n",
      "mean             inf\n",
      "std              NaN\n",
      "min         0.000000\n",
      "25%         0.000730\n",
      "50%         0.002700\n",
      "75%         0.061236\n",
      "max              inf\n",
      "Name: VALUE_PER_KG, dtype: float64\n",
      "0\n",
      "0       187081.31\n",
      "1       312983.36\n",
      "2        53528.28\n",
      "3       595985.65\n",
      "4       363521.97\n",
      "          ...    \n",
      "8719     39545.97\n",
      "8720    269785.88\n",
      "8721     51002.32\n",
      "8722    249250.96\n",
      "8723     22600.81\n",
      "Name: VALUE, Length: 8051, dtype: float64\n"
     ]
    }
   ],
   "source": [
    "print(Y_train.describe())\n",
    "print(Y_train.isnull().sum())  # Revisa si hay valores NaN\n",
    "entrenamiento['VALUE'] = entrenamiento['VALUE'].round(2)\n",
    "\n",
    "# Verifica que los valores han sido redondeados\n",
    "print(entrenamiento['VALUE'])\n"
   ]
  },
  {
   "cell_type": "code",
   "execution_count": 56,
   "metadata": {},
   "outputs": [
    {
     "data": {
      "text/html": [
       "<style>#sk-container-id-1 {color: black;}#sk-container-id-1 pre{padding: 0;}#sk-container-id-1 div.sk-toggleable {background-color: white;}#sk-container-id-1 label.sk-toggleable__label {cursor: pointer;display: block;width: 100%;margin-bottom: 0;padding: 0.3em;box-sizing: border-box;text-align: center;}#sk-container-id-1 label.sk-toggleable__label-arrow:before {content: \"▸\";float: left;margin-right: 0.25em;color: #696969;}#sk-container-id-1 label.sk-toggleable__label-arrow:hover:before {color: black;}#sk-container-id-1 div.sk-estimator:hover label.sk-toggleable__label-arrow:before {color: black;}#sk-container-id-1 div.sk-toggleable__content {max-height: 0;max-width: 0;overflow: hidden;text-align: left;background-color: #f0f8ff;}#sk-container-id-1 div.sk-toggleable__content pre {margin: 0.2em;color: black;border-radius: 0.25em;background-color: #f0f8ff;}#sk-container-id-1 input.sk-toggleable__control:checked~div.sk-toggleable__content {max-height: 200px;max-width: 100%;overflow: auto;}#sk-container-id-1 input.sk-toggleable__control:checked~label.sk-toggleable__label-arrow:before {content: \"▾\";}#sk-container-id-1 div.sk-estimator input.sk-toggleable__control:checked~label.sk-toggleable__label {background-color: #d4ebff;}#sk-container-id-1 div.sk-label input.sk-toggleable__control:checked~label.sk-toggleable__label {background-color: #d4ebff;}#sk-container-id-1 input.sk-hidden--visually {border: 0;clip: rect(1px 1px 1px 1px);clip: rect(1px, 1px, 1px, 1px);height: 1px;margin: -1px;overflow: hidden;padding: 0;position: absolute;width: 1px;}#sk-container-id-1 div.sk-estimator {font-family: monospace;background-color: #f0f8ff;border: 1px dotted black;border-radius: 0.25em;box-sizing: border-box;margin-bottom: 0.5em;}#sk-container-id-1 div.sk-estimator:hover {background-color: #d4ebff;}#sk-container-id-1 div.sk-parallel-item::after {content: \"\";width: 100%;border-bottom: 1px solid gray;flex-grow: 1;}#sk-container-id-1 div.sk-label:hover label.sk-toggleable__label {background-color: #d4ebff;}#sk-container-id-1 div.sk-serial::before {content: \"\";position: absolute;border-left: 1px solid gray;box-sizing: border-box;top: 0;bottom: 0;left: 50%;z-index: 0;}#sk-container-id-1 div.sk-serial {display: flex;flex-direction: column;align-items: center;background-color: white;padding-right: 0.2em;padding-left: 0.2em;position: relative;}#sk-container-id-1 div.sk-item {position: relative;z-index: 1;}#sk-container-id-1 div.sk-parallel {display: flex;align-items: stretch;justify-content: center;background-color: white;position: relative;}#sk-container-id-1 div.sk-item::before, #sk-container-id-1 div.sk-parallel-item::before {content: \"\";position: absolute;border-left: 1px solid gray;box-sizing: border-box;top: 0;bottom: 0;left: 50%;z-index: -1;}#sk-container-id-1 div.sk-parallel-item {display: flex;flex-direction: column;z-index: 1;position: relative;background-color: white;}#sk-container-id-1 div.sk-parallel-item:first-child::after {align-self: flex-end;width: 50%;}#sk-container-id-1 div.sk-parallel-item:last-child::after {align-self: flex-start;width: 50%;}#sk-container-id-1 div.sk-parallel-item:only-child::after {width: 0;}#sk-container-id-1 div.sk-dashed-wrapped {border: 1px dashed gray;margin: 0 0.4em 0.5em 0.4em;box-sizing: border-box;padding-bottom: 0.4em;background-color: white;}#sk-container-id-1 div.sk-label label {font-family: monospace;font-weight: bold;display: inline-block;line-height: 1.2em;}#sk-container-id-1 div.sk-label-container {text-align: center;}#sk-container-id-1 div.sk-container {/* jupyter's `normalize.less` sets `[hidden] { display: none; }` but bootstrap.min.css set `[hidden] { display: none !important; }` so we also need the `!important` here to be able to override the default hidden behavior on the sphinx rendered scikit-learn.org. See: https://github.com/scikit-learn/scikit-learn/issues/21755 */display: inline-block !important;position: relative;}#sk-container-id-1 div.sk-text-repr-fallback {display: none;}</style><div id=\"sk-container-id-1\" class=\"sk-top-container\"><div class=\"sk-text-repr-fallback\"><pre>LinearRegression()</pre><b>In a Jupyter environment, please rerun this cell to show the HTML representation or trust the notebook. <br />On GitHub, the HTML representation is unable to render, please try loading this page with nbviewer.org.</b></div><div class=\"sk-container\" hidden><div class=\"sk-item\"><div class=\"sk-estimator sk-toggleable\"><input class=\"sk-toggleable__control sk-hidden--visually\" id=\"sk-estimator-id-1\" type=\"checkbox\" checked><label for=\"sk-estimator-id-1\" class=\"sk-toggleable__label sk-toggleable__label-arrow\">LinearRegression</label><div class=\"sk-toggleable__content\"><pre>LinearRegression()</pre></div></div></div></div></div>"
      ],
      "text/plain": [
       "LinearRegression()"
      ]
     },
     "execution_count": 56,
     "metadata": {},
     "output_type": "execute_result"
    }
   ],
   "source": [
    "from sklearn.linear_model import LinearRegression\n",
    "model = LinearRegression()\n",
    "model.fit(X_train, Y_train)"
   ]
  },
  {
   "cell_type": "code",
   "execution_count": 57,
   "metadata": {},
   "outputs": [
    {
     "name": "stdout",
     "output_type": "stream",
     "text": [
      "Mean Squared Error (MSE): 1126707192598.68\n",
      "R²:  0.27\n"
     ]
    },
    {
     "data": {
      "image/png": "[encoded data removed]",
      "text/plain": [
       "<Figure size 640x480 with 1 Axes>"
      ]
     },
     "metadata": {},
     "output_type": "display_data"
    }
   ],
   "source": [
    "import matplotlib.pyplot as plt\n",
    "from sklearn.linear_model import LinearRegression\n",
    "from sklearn.metrics import mean_squared_error, r2_score\n",
    "import numpy as np\n",
    "\n",
    "# Ajusta el código para un modelo de regresión\n",
    "def regression_metrics(modelo, X_train, Y_train):\n",
    "    # Realizar predicciones\n",
    "    y_pred = modelo.predict(X_train)\n",
    "    \n",
    "    # Calcular el error cuadrático medio (MSE)\n",
    "    mse = mean_squared_error(Y_train, y_pred)\n",
    "    \n",
    "    # Calcular el R² (coeficiente de determinación)\n",
    "    r2 = r2_score(Y_train, y_pred)\n",
    "    \n",
    "    # Imprimir las métricas\n",
    "    print(\"Mean Squared Error (MSE):\", np.round(mse, 2))\n",
    "    print(\"R²: \", np.round(r2, 2))\n",
    "\n",
    "    # Graficar las predicciones vs los valores reales\n",
    "    plt.scatter(Y_train, y_pred, color='blue')\n",
    "    plt.plot([Y_train.min(), Y_train.max()], [Y_train.min(), Y_train.max()], color='red', linewidth=2)\n",
    "    plt.xlabel('Valores Reales')\n",
    "    plt.ylabel('Predicciones')\n",
    "    plt.title('Predicciones vs Valores Reales')\n",
    "    plt.show()\n",
    "\n",
    "# Ejemplo de uso con un modelo de regresión lineal\n",
    "modelo = LinearRegression()\n",
    "modelo.fit(X_train, Y_train)  # Ajustar el modelo de regresión\n",
    "\n",
    "# Llamar a la función para evaluar el modelo\n",
    "regression_metrics(modelo, X_train, Y_train)\n"
   ]
  }
 ],
 "metadata": {
  "kernelspec": {
   "display_name": "Python 3.8.1 64-bit",
   "language": "python",
   "name": "python3"
  },
  "language_info": {
   "codemirror_mode": {
    "name": "ipython",
    "version": 3
   },
   "file_extension": ".py",
   "mimetype": "text/x-python",
   "name": "python",
   "nbconvert_exporter": "python",
   "pygments_lexer": "ipython3",
   "version": "3.8.1"
  },
  "orig_nbformat": 4,
  "vscode": {
   "interpreter": {
    "hash": "89b4d83c8e124f372cb1c062f7891d9009ae0d65ed911820444d93e247302d13"
   }
  }
 },
 "nbformat": 4,
 "nbformat_minor": 2
}
